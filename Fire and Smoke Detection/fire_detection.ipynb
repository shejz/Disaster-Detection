{
  "nbformat": 4,
  "nbformat_minor": 0,
  "metadata": {
    "colab": {
      "name": "keras_fire_detection.ipynb",
      "provenance": [],
      "collapsed_sections": []
    },
    "kernelspec": {
      "name": "python3",
      "display_name": "Python 3"
    },
    "accelerator": "GPU"
  },
  "cells": [
    {
      "cell_type": "markdown",
      "metadata": {
        "id": "j4RpK9pawQzP"
      },
      "source": [
        "# Fire and smoke detection with Keras and Deep Learning"
      ]
    },
    {
      "cell_type": "markdown",
      "metadata": {
        "id": "POnV1f-rIsqt"
      },
      "source": [
        "### Downloading the dataset"
      ]
    },
    {
      "cell_type": "code",
      "metadata": {
        "id": "obmPgBzfIsW_",
        "colab": {
          "base_uri": "https://localhost:8080/"
        },
        "outputId": "d273e162-97d3-4ee2-cb4c-c0dc083e4b6e"
      },
      "source": [
        "!wget https://pis-datasets.s3.us-east-2.amazonaws.com/Robbery_Accident_Fire_Database.zip\n",
        "!unzip -qq Robbery_Accident_Fire_Database.zip"
      ],
      "execution_count": 2,
      "outputs": [
        {
          "output_type": "stream",
          "text": [
            "--2021-06-17 21:52:51--  https://pis-datasets.s3.us-east-2.amazonaws.com/Robbery_Accident_Fire_Database.zip\n",
            "Resolving pis-datasets.s3.us-east-2.amazonaws.com (pis-datasets.s3.us-east-2.amazonaws.com)... 52.219.97.114\n",
            "Connecting to pis-datasets.s3.us-east-2.amazonaws.com (pis-datasets.s3.us-east-2.amazonaws.com)|52.219.97.114|:443... connected.\n",
            "HTTP request sent, awaiting response... 200 OK\n",
            "Length: 1035702869 (988M) [application/zip]\n",
            "Saving to: ‘Robbery_Accident_Fire_Database.zip’\n",
            "\n",
            "Robbery_Accident_Fi 100%[===================>] 987.72M  43.1MB/s    in 39s     \n",
            "\n",
            "2021-06-17 21:53:30 (25.1 MB/s) - ‘Robbery_Accident_Fire_Database.zip’ saved [1035702869/1035702869]\n",
            "\n"
          ],
          "name": "stdout"
        }
      ]
    },
    {
      "cell_type": "code",
      "metadata": {
        "id": "cJUFxVn1JC2T"
      },
      "source": [
        "%%bash \n",
        "sh prune.sh"
      ],
      "execution_count": 3,
      "outputs": []
    },
    {
      "cell_type": "code",
      "metadata": {
        "id": "5I1xBnDBJXVc",
        "colab": {
          "base_uri": "https://localhost:8080/"
        },
        "outputId": "70f053f7-a87a-46ca-b9ad-f962f86a1738"
      },
      "source": [
        "!wget https://pis-datasets.s3.us-east-2.amazonaws.com/spatial_envelope_256x256_static_8outdoorcategories.zip\n",
        "!unzip -qq spatial_envelope_256x256_static_8outdoorcategories.zip"
      ],
      "execution_count": 4,
      "outputs": [
        {
          "output_type": "stream",
          "text": [
            "--2021-06-17 21:53:39--  https://pis-datasets.s3.us-east-2.amazonaws.com/spatial_envelope_256x256_static_8outdoorcategories.zip\n",
            "Resolving pis-datasets.s3.us-east-2.amazonaws.com (pis-datasets.s3.us-east-2.amazonaws.com)... 52.219.84.184\n",
            "Connecting to pis-datasets.s3.us-east-2.amazonaws.com (pis-datasets.s3.us-east-2.amazonaws.com)|52.219.84.184|:443... connected.\n",
            "HTTP request sent, awaiting response... 200 OK\n",
            "Length: 135033638 (129M) [application/zip]\n",
            "Saving to: ‘spatial_envelope_256x256_static_8outdoorcategories.zip’\n",
            "\n",
            "spatial_envelope_25 100%[===================>] 128.78M  38.4MB/s    in 3.4s    \n",
            "\n",
            "2021-06-17 21:53:43 (38.4 MB/s) - ‘spatial_envelope_256x256_static_8outdoorcategories.zip’ saved [135033638/135033638]\n",
            "\n"
          ],
          "name": "stdout"
        }
      ]
    },
    {
      "cell_type": "markdown",
      "metadata": {
        "id": "wcrOk6pURp50"
      },
      "source": [
        "### Import Packages"
      ]
    },
    {
      "cell_type": "code",
      "metadata": {
        "id": "yiF-NE1G4f6U"
      },
      "source": [
        "# import the necessary packages\n",
        "from tensorflow.keras.models import Sequential\n",
        "from tensorflow.keras.layers import BatchNormalization\n",
        "from tensorflow.keras.layers import SeparableConv2D\n",
        "from tensorflow.keras.layers import MaxPooling2D\n",
        "from tensorflow.keras.layers import Activation\n",
        "from tensorflow.keras.layers import Flatten\n",
        "from tensorflow.keras.layers import Dropout\n",
        "from tensorflow.keras.layers import Dense\n",
        "from tensorflow.keras.preprocessing.image import ImageDataGenerator\n",
        "from tensorflow.keras.optimizers import SGD\n",
        "from tensorflow.keras.utils import to_categorical\n",
        "from sklearn.model_selection import train_test_split\n",
        "from sklearn.metrics import classification_report\n",
        "from pyimagesearch.learningratefinder import LearningRateFinder\n",
        "from tensorflow.keras.models import load_model\n",
        "from imutils import paths\n",
        "import matplotlib.pyplot as plt\n",
        "import numpy as np\n",
        "import argparse\n",
        "import imutils\n",
        "import random\n",
        "import cv2\n",
        "import sys\n",
        "import os"
      ],
      "execution_count": 5,
      "outputs": []
    },
    {
      "cell_type": "markdown",
      "metadata": {
        "id": "ljZWqwMfILYk"
      },
      "source": [
        "### Our configuration file"
      ]
    },
    {
      "cell_type": "code",
      "metadata": {
        "id": "0LjCwtj4G9q6"
      },
      "source": [
        "class Config:\n",
        "    # initialize the path to the fire and non-fire dataset directories\n",
        "    FIRE_PATH = os.path.sep.join([\"Robbery_Accident_Fire_Database2\",\n",
        "        \"Fire\"])\n",
        "    NON_FIRE_PATH = \"spatial_envelope_256x256_static_8outdoorcategories\"\n",
        "    \n",
        "    # initialize the class labels in the dataset\n",
        "    CLASSES = [\"Non-Fire\", \"Fire\"]\n",
        "\n",
        "    # define the size of the training and testing split\n",
        "    TRAIN_SPLIT = 0.75\n",
        "    TEST_SPLIT = 0.25\n",
        "    \n",
        "    # define the initial learning rate, batch size, and number of epochs\n",
        "    INIT_LR = 1e-2\n",
        "    BATCH_SIZE = 64\n",
        "    NUM_EPOCHS = 50\n",
        "\n",
        "    # set the path to the serialized model after training\n",
        "    MODEL_PATH = os.path.sep.join([\"output\", \"fire_detection.model\"])\n",
        "    \n",
        "    # define the path to the output learning rate finder plot and\n",
        "    # training history plot\n",
        "    LRFIND_PLOT_PATH = os.path.sep.join([\"output\", \"lrfind_plot.png\"])\n",
        "    TRAINING_PLOT_PATH = os.path.sep.join([\"output\", \"training_plot.png\"])\n",
        "\n",
        "    # define the path to the output directory that will store our final\n",
        "    # output with labels/annotations along with the number of images to\n",
        "    # sample\n",
        "    OUTPUT_IMAGE_PATH = os.path.sep.join([\"output\", \"examples\"])\n",
        "    SAMPLE_SIZE = 50\n",
        "\n",
        "# initialize the configuration object\n",
        "config = Config()"
      ],
      "execution_count": 6,
      "outputs": []
    },
    {
      "cell_type": "markdown",
      "metadata": {
        "id": "wA9gQCmxKXnm"
      },
      "source": [
        "### Implementing our fire detection Convolutional Neural Network"
      ]
    },
    {
      "cell_type": "code",
      "metadata": {
        "id": "mV-0lrQ2KekF"
      },
      "source": [
        "class FireDetectionNet:\n",
        "\t@staticmethod\n",
        "\tdef build(width, height, depth, classes):\n",
        "\t\t# initialize the model along with the input shape to be\n",
        "\t\t# \"channels last\" and the channels dimension itself\n",
        "\t\tmodel = Sequential()\n",
        "\t\tinputShape = (height, width, depth)\n",
        "\t\tchanDim = -1\n",
        "\n",
        "\t\t# CONV => RELU => POOL\n",
        "\t\tmodel.add(SeparableConv2D(16, (7, 7), padding=\"same\",\n",
        "\t\t\tinput_shape=inputShape))\n",
        "\t\tmodel.add(Activation(\"relu\"))\n",
        "\t\tmodel.add(BatchNormalization(axis=chanDim))\n",
        "\t\tmodel.add(MaxPooling2D(pool_size=(2, 2)))\n",
        "\n",
        "\t\t# CONV => RELU => POOL\n",
        "\t\tmodel.add(SeparableConv2D(32, (3, 3), padding=\"same\"))\n",
        "\t\tmodel.add(Activation(\"relu\"))\n",
        "\t\tmodel.add(BatchNormalization(axis=chanDim))\n",
        "\t\tmodel.add(MaxPooling2D(pool_size=(2, 2)))\n",
        "\n",
        "\t\t# (CONV => RELU) * 2 => POOL\n",
        "\t\tmodel.add(SeparableConv2D(64, (3, 3), padding=\"same\"))\n",
        "\t\tmodel.add(Activation(\"relu\"))\n",
        "\t\tmodel.add(BatchNormalization(axis=chanDim))\n",
        "\t\tmodel.add(SeparableConv2D(64, (3, 3), padding=\"same\"))\n",
        "\t\tmodel.add(Activation(\"relu\"))\n",
        "\t\tmodel.add(BatchNormalization(axis=chanDim))\n",
        "\t\tmodel.add(MaxPooling2D(pool_size=(2, 2)))\n",
        "\n",
        "\t\t# first set of FC => RELU layers\n",
        "\t\tmodel.add(Flatten())\n",
        "\t\tmodel.add(Dense(128))\n",
        "\t\tmodel.add(Activation(\"relu\"))\n",
        "\t\tmodel.add(BatchNormalization())\n",
        "\t\tmodel.add(Dropout(0.5))\n",
        "\n",
        "\t\t# second set of FC => RELU layers\n",
        "\t\tmodel.add(Dense(128))\n",
        "\t\tmodel.add(Activation(\"relu\"))\n",
        "\t\tmodel.add(BatchNormalization())\n",
        "\t\tmodel.add(Dropout(0.5))\n",
        "\n",
        "\t\t# softmax classifier\n",
        "\t\tmodel.add(Dense(classes))\n",
        "\t\tmodel.add(Activation(\"softmax\"))\n",
        "\n",
        "\t\t# return the constructed network architecture\n",
        "\t\treturn model"
      ],
      "execution_count": 7,
      "outputs": []
    },
    {
      "cell_type": "markdown",
      "metadata": {
        "id": "GPkMTZtyK0Cc"
      },
      "source": [
        "### Creating our training script"
      ]
    },
    {
      "cell_type": "code",
      "metadata": {
        "id": "P4nwlJ_ZKi9n"
      },
      "source": [
        "def load_dataset(datasetPath):\n",
        "\t# grab the paths to all images in our dataset directory, then\n",
        "\t# initialize our lists of images\n",
        "\timagePaths = list(paths.list_images(datasetPath))\n",
        "\tdata = []\n",
        "\n",
        "\t# loop over the image paths\n",
        "\tfor imagePath in imagePaths:\n",
        "\t\t# load the image and resize it to be a fixed 128x128 pixels,\n",
        "\t\t# ignoring aspect ratio\n",
        "\t\timage = cv2.imread(imagePath)\n",
        "\t\timage = cv2.resize(image, (128, 128))\n",
        "\n",
        "\t\t# add the image to the data lists\n",
        "\t\tdata.append(image)\n",
        "\n",
        "\t# return the data list as a NumPy array\n",
        "\treturn np.array(data, dtype=\"float32\")"
      ],
      "execution_count": 8,
      "outputs": []
    },
    {
      "cell_type": "code",
      "metadata": {
        "id": "8_UybEWjLkL6"
      },
      "source": [
        "# since we are using Jupyter Notebooks we can replace our argument\n",
        "# parsing code with *hard coded* arguments and values\n",
        "args = {\n",
        "   \"lr_find\": 0\n",
        "}"
      ],
      "execution_count": 9,
      "outputs": []
    },
    {
      "cell_type": "code",
      "metadata": {
        "id": "5TQqqldVLp4j",
        "colab": {
          "base_uri": "https://localhost:8080/"
        },
        "outputId": "6468d8c0-0d7a-417c-a70c-9b7cbc8f5a93"
      },
      "source": [
        "# load the fire and non-fire images\n",
        "print(\"[INFO] loading data...\")\n",
        "fireData = load_dataset(config.FIRE_PATH)\n",
        "nonFireData = load_dataset(config.NON_FIRE_PATH)\n",
        "\n",
        "# construct the class labels for the data\n",
        "fireLabels = np.ones((fireData.shape[0],))\n",
        "nonFireLabels = np.zeros((nonFireData.shape[0],))\n",
        "\n",
        "# stack the fire data with the non-fire data, then scale the data\n",
        "# to the range [0, 1]\n",
        "data = np.vstack([fireData, nonFireData])\n",
        "labels = np.hstack([fireLabels, nonFireLabels])\n",
        "data /= 255"
      ],
      "execution_count": 10,
      "outputs": [
        {
          "output_type": "stream",
          "text": [
            "[INFO] loading data...\n"
          ],
          "name": "stdout"
        }
      ]
    },
    {
      "cell_type": "code",
      "metadata": {
        "id": "ylPHCB6MLsgD"
      },
      "source": [
        "# perform one-hot encoding on the labels and account for skew in the\n",
        "# labeled data\n",
        "labels = to_categorical(labels, num_classes=2)\n",
        "\n",
        "# calculate the total number of images in each class and\n",
        "# initialize a dictionary to store the class weights\n",
        "classTotals = labels.sum(axis=0)\n",
        "classWeight = dict()\n",
        "\n",
        "# loop over all classes and calculate the class weight\n",
        "for i in range(0, len(classTotals)):\n",
        "\tclassWeight[i] = classTotals.max() / classTotals[i]\n",
        "\n",
        "\n",
        "# construct the training and testing split\n",
        "(trainX, testX, trainY, testY) = train_test_split(data, labels,\n",
        "\ttest_size=config.TEST_SPLIT, random_state=42)"
      ],
      "execution_count": 11,
      "outputs": []
    },
    {
      "cell_type": "code",
      "metadata": {
        "id": "_gGMjPWmLvoc",
        "colab": {
          "base_uri": "https://localhost:8080/"
        },
        "outputId": "8699e106-0e89-458f-f2a3-ae8697969d94"
      },
      "source": [
        "# initialize the training data augmentation object\n",
        "aug = ImageDataGenerator(\n",
        "\trotation_range=30,\n",
        "\tzoom_range=0.15,\n",
        "\twidth_shift_range=0.2,\n",
        "\theight_shift_range=0.2,\n",
        "\tshear_range=0.15,\n",
        "\thorizontal_flip=True,\n",
        "\tfill_mode=\"nearest\")\n",
        "\n",
        "# initialize the optimizer and model\n",
        "print(\"[INFO] compiling model...\")\n",
        "opt = SGD(lr=config.INIT_LR, momentum=0.9,\n",
        "\tdecay=config.INIT_LR / config.NUM_EPOCHS)\n",
        "model = FireDetectionNet.build(width=128, height=128, depth=3,\n",
        "\tclasses=2)\n",
        "model.compile(loss=\"binary_crossentropy\", optimizer=opt,\n",
        "\tmetrics=[\"accuracy\"])"
      ],
      "execution_count": 12,
      "outputs": [
        {
          "output_type": "stream",
          "text": [
            "[INFO] compiling model...\n"
          ],
          "name": "stdout"
        },
        {
          "output_type": "stream",
          "text": [
            "/usr/local/lib/python3.7/dist-packages/tensorflow/python/keras/optimizer_v2/optimizer_v2.py:375: UserWarning: The `lr` argument is deprecated, use `learning_rate` instead.\n",
            "  \"The `lr` argument is deprecated, use `learning_rate` instead.\")\n"
          ],
          "name": "stderr"
        }
      ]
    },
    {
      "cell_type": "code",
      "metadata": {
        "id": "qXQdyBVIL5jH"
      },
      "source": [
        "# check to see if we are attempting to find an optimal learning rate\n",
        "# before training for the full number of epochs\n",
        "if args[\"lr_find\"] > 0:\n",
        "\t# initialize the learning rate finder and then train with learning\n",
        "\t# rates ranging from 1e-10 to 1e+1\n",
        "\tprint(\"[INFO] finding learning rate...\")\n",
        "\tlrf = LearningRateFinder(model)\n",
        "\tlrf.find(\n",
        "\t\taug.flow(trainX, trainY, batch_size=config.BATCH_SIZE),\n",
        "\t\t1e-10, 1e+1,\n",
        "\t\tstepsPerEpoch=np.ceil((trainX.shape[0] / float(config.BATCH_SIZE))),\n",
        "\t\tepochs=20,\n",
        "\t\tbatchSize=config.BATCH_SIZE,\n",
        "\t\tclassWeight=classWeight)\n",
        "\n",
        "\t# plot the loss for the various learning rates and save the\n",
        "\t# resulting plot to disk\n",
        "\tlrf.plot_loss()\n",
        "\tplt.savefig(config.LRFIND_PLOT_PATH)\n",
        "\n",
        "\t# gracefully exit the script so we can adjust our learning rates\n",
        "\t# in the config and then train the network for our full set of\n",
        "\t# epochs\n",
        "\tprint(\"[INFO] learning rate finder complete\")\n",
        "\tprint(\"[INFO] examine plot and adjust learning rates before training\")"
      ],
      "execution_count": 13,
      "outputs": []
    },
    {
      "cell_type": "code",
      "metadata": {
        "id": "zD9eef-_L_aG",
        "colab": {
          "base_uri": "https://localhost:8080/"
        },
        "outputId": "c7d677c4-bb9f-480f-d254-4a5da0ca1f3c"
      },
      "source": [
        "# train the network\n",
        "print(\"[INFO] training network...\")\n",
        "H = model.fit_generator(\n",
        "\taug.flow(trainX, trainY, batch_size=config.BATCH_SIZE),\n",
        "\tvalidation_data=(testX, testY),\n",
        "\tsteps_per_epoch=trainX.shape[0] // config.BATCH_SIZE,\n",
        "\tepochs=config.NUM_EPOCHS,\n",
        "\tclass_weight=classWeight,\n",
        "\tverbose=1)"
      ],
      "execution_count": 14,
      "outputs": [
        {
          "output_type": "stream",
          "text": [
            "[INFO] training network...\n"
          ],
          "name": "stdout"
        },
        {
          "output_type": "stream",
          "text": [
            "/usr/local/lib/python3.7/dist-packages/tensorflow/python/keras/engine/training.py:1940: UserWarning: `Model.fit_generator` is deprecated and will be removed in a future version. Please use `Model.fit`, which supports generators.\n",
            "  warnings.warn('`Model.fit_generator` is deprecated and '\n"
          ],
          "name": "stderr"
        },
        {
          "output_type": "stream",
          "text": [
            "WARNING:tensorflow:From /usr/local/lib/python3.7/dist-packages/tensorflow/python/ops/array_ops.py:5049: calling gather (from tensorflow.python.ops.array_ops) with validate_indices is deprecated and will be removed in a future version.\n",
            "Instructions for updating:\n",
            "The `validate_indices` argument has no effect. Indices are always validated on CPU and never validated on GPU.\n",
            "Epoch 1/50\n",
            "46/46 [==============================] - 43s 245ms/step - loss: 0.8614 - accuracy: 0.7008 - val_loss: 0.6952 - val_accuracy: 0.4595\n",
            "Epoch 2/50\n",
            "46/46 [==============================] - 11s 244ms/step - loss: 0.7050 - accuracy: 0.7335 - val_loss: 0.6177 - val_accuracy: 0.6633\n",
            "Epoch 3/50\n",
            "46/46 [==============================] - 11s 247ms/step - loss: 0.6427 - accuracy: 0.7614 - val_loss: 0.5673 - val_accuracy: 0.6503\n",
            "Epoch 4/50\n",
            "46/46 [==============================] - 11s 246ms/step - loss: 0.6038 - accuracy: 0.7828 - val_loss: 0.6339 - val_accuracy: 0.6464\n",
            "Epoch 5/50\n",
            "46/46 [==============================] - 11s 248ms/step - loss: 0.5936 - accuracy: 0.7818 - val_loss: 0.4850 - val_accuracy: 0.7253\n",
            "Epoch 6/50\n",
            "46/46 [==============================] - 11s 246ms/step - loss: 0.5680 - accuracy: 0.7897 - val_loss: 0.7216 - val_accuracy: 0.6583\n",
            "Epoch 7/50\n",
            "46/46 [==============================] - 12s 248ms/step - loss: 0.5390 - accuracy: 0.8067 - val_loss: 0.5232 - val_accuracy: 0.7323\n",
            "Epoch 8/50\n",
            "46/46 [==============================] - 11s 245ms/step - loss: 0.5486 - accuracy: 0.8148 - val_loss: 0.3931 - val_accuracy: 0.8212\n",
            "Epoch 9/50\n",
            "46/46 [==============================] - 12s 249ms/step - loss: 0.5219 - accuracy: 0.8148 - val_loss: 0.6668 - val_accuracy: 0.7493\n",
            "Epoch 10/50\n",
            "46/46 [==============================] - 11s 245ms/step - loss: 0.5088 - accuracy: 0.8240 - val_loss: 0.4026 - val_accuracy: 0.7972\n",
            "Epoch 11/50\n",
            "46/46 [==============================] - 12s 248ms/step - loss: 0.5367 - accuracy: 0.8179 - val_loss: 0.3516 - val_accuracy: 0.8432\n",
            "Epoch 12/50\n",
            "46/46 [==============================] - 12s 247ms/step - loss: 0.4697 - accuracy: 0.8424 - val_loss: 0.5307 - val_accuracy: 0.7762\n",
            "Epoch 13/50\n",
            "46/46 [==============================] - 11s 248ms/step - loss: 0.4881 - accuracy: 0.8346 - val_loss: 0.3392 - val_accuracy: 0.8551\n",
            "Epoch 14/50\n",
            "46/46 [==============================] - 12s 249ms/step - loss: 0.4696 - accuracy: 0.8383 - val_loss: 0.5219 - val_accuracy: 0.7742\n",
            "Epoch 15/50\n",
            "46/46 [==============================] - 12s 249ms/step - loss: 0.4804 - accuracy: 0.8278 - val_loss: 0.3245 - val_accuracy: 0.8621\n",
            "Epoch 16/50\n",
            "46/46 [==============================] - 11s 246ms/step - loss: 0.4653 - accuracy: 0.8322 - val_loss: 0.3226 - val_accuracy: 0.8661\n",
            "Epoch 17/50\n",
            "46/46 [==============================] - 11s 248ms/step - loss: 0.4545 - accuracy: 0.8496 - val_loss: 0.4486 - val_accuracy: 0.8012\n",
            "Epoch 18/50\n",
            "46/46 [==============================] - 11s 244ms/step - loss: 0.4692 - accuracy: 0.8373 - val_loss: 0.2782 - val_accuracy: 0.8811\n",
            "Epoch 19/50\n",
            "46/46 [==============================] - 11s 246ms/step - loss: 0.4428 - accuracy: 0.8445 - val_loss: 0.5327 - val_accuracy: 0.7872\n",
            "Epoch 20/50\n",
            "46/46 [==============================] - 11s 246ms/step - loss: 0.4531 - accuracy: 0.8499 - val_loss: 0.3601 - val_accuracy: 0.8222\n",
            "Epoch 21/50\n",
            "46/46 [==============================] - 11s 247ms/step - loss: 0.4508 - accuracy: 0.8465 - val_loss: 0.2762 - val_accuracy: 0.8911\n",
            "Epoch 22/50\n",
            "46/46 [==============================] - 12s 249ms/step - loss: 0.4353 - accuracy: 0.8506 - val_loss: 0.2866 - val_accuracy: 0.8731\n",
            "Epoch 23/50\n",
            "46/46 [==============================] - 11s 244ms/step - loss: 0.4267 - accuracy: 0.8556 - val_loss: 0.3231 - val_accuracy: 0.8751\n",
            "Epoch 24/50\n",
            "46/46 [==============================] - 11s 246ms/step - loss: 0.4558 - accuracy: 0.8448 - val_loss: 0.3256 - val_accuracy: 0.8751\n",
            "Epoch 25/50\n",
            "46/46 [==============================] - 12s 251ms/step - loss: 0.4113 - accuracy: 0.8669 - val_loss: 0.3163 - val_accuracy: 0.8651\n",
            "Epoch 26/50\n",
            "46/46 [==============================] - 11s 244ms/step - loss: 0.3894 - accuracy: 0.8679 - val_loss: 0.4372 - val_accuracy: 0.7952\n",
            "Epoch 27/50\n",
            "46/46 [==============================] - 12s 250ms/step - loss: 0.3839 - accuracy: 0.8710 - val_loss: 0.3160 - val_accuracy: 0.8741\n",
            "Epoch 28/50\n",
            "46/46 [==============================] - 12s 247ms/step - loss: 0.3860 - accuracy: 0.8764 - val_loss: 0.2954 - val_accuracy: 0.8841\n",
            "Epoch 29/50\n",
            "46/46 [==============================] - 11s 244ms/step - loss: 0.3970 - accuracy: 0.8676 - val_loss: 0.2775 - val_accuracy: 0.8851\n",
            "Epoch 30/50\n",
            "46/46 [==============================] - 11s 246ms/step - loss: 0.4134 - accuracy: 0.8598 - val_loss: 0.3661 - val_accuracy: 0.8511\n",
            "Epoch 31/50\n",
            "46/46 [==============================] - 12s 249ms/step - loss: 0.3871 - accuracy: 0.8659 - val_loss: 0.3238 - val_accuracy: 0.8721\n",
            "Epoch 32/50\n",
            "46/46 [==============================] - 12s 248ms/step - loss: 0.3863 - accuracy: 0.8700 - val_loss: 0.2500 - val_accuracy: 0.8981\n",
            "Epoch 33/50\n",
            "46/46 [==============================] - 11s 245ms/step - loss: 0.3836 - accuracy: 0.8754 - val_loss: 0.2973 - val_accuracy: 0.8711\n",
            "Epoch 34/50\n",
            "46/46 [==============================] - 11s 246ms/step - loss: 0.3798 - accuracy: 0.8751 - val_loss: 0.4040 - val_accuracy: 0.8402\n",
            "Epoch 35/50\n",
            "46/46 [==============================] - 11s 248ms/step - loss: 0.3623 - accuracy: 0.8843 - val_loss: 0.2673 - val_accuracy: 0.8881\n",
            "Epoch 36/50\n",
            "46/46 [==============================] - 11s 245ms/step - loss: 0.3535 - accuracy: 0.8880 - val_loss: 0.3027 - val_accuracy: 0.8771\n",
            "Epoch 37/50\n",
            "46/46 [==============================] - 11s 245ms/step - loss: 0.3894 - accuracy: 0.8741 - val_loss: 0.3495 - val_accuracy: 0.8581\n",
            "Epoch 38/50\n",
            "46/46 [==============================] - 12s 248ms/step - loss: 0.3663 - accuracy: 0.8816 - val_loss: 0.2347 - val_accuracy: 0.8991\n",
            "Epoch 39/50\n",
            "46/46 [==============================] - 11s 247ms/step - loss: 0.3729 - accuracy: 0.8771 - val_loss: 0.2997 - val_accuracy: 0.8741\n",
            "Epoch 40/50\n",
            "46/46 [==============================] - 12s 250ms/step - loss: 0.3435 - accuracy: 0.8877 - val_loss: 0.2690 - val_accuracy: 0.8861\n",
            "Epoch 41/50\n",
            "46/46 [==============================] - 11s 248ms/step - loss: 0.3601 - accuracy: 0.8816 - val_loss: 0.2614 - val_accuracy: 0.9001\n",
            "Epoch 42/50\n",
            "46/46 [==============================] - 11s 246ms/step - loss: 0.3291 - accuracy: 0.8901 - val_loss: 0.2675 - val_accuracy: 0.8941\n",
            "Epoch 43/50\n",
            "46/46 [==============================] - 11s 246ms/step - loss: 0.3516 - accuracy: 0.8863 - val_loss: 0.2642 - val_accuracy: 0.8901\n",
            "Epoch 44/50\n",
            "46/46 [==============================] - 12s 250ms/step - loss: 0.3436 - accuracy: 0.8904 - val_loss: 0.2675 - val_accuracy: 0.8901\n",
            "Epoch 45/50\n",
            "46/46 [==============================] - 12s 251ms/step - loss: 0.3526 - accuracy: 0.8884 - val_loss: 0.2694 - val_accuracy: 0.8821\n",
            "Epoch 46/50\n",
            "46/46 [==============================] - 11s 247ms/step - loss: 0.3183 - accuracy: 0.8958 - val_loss: 0.3566 - val_accuracy: 0.8611\n",
            "Epoch 47/50\n",
            "46/46 [==============================] - 12s 248ms/step - loss: 0.3258 - accuracy: 0.8965 - val_loss: 0.2767 - val_accuracy: 0.8931\n",
            "Epoch 48/50\n",
            "46/46 [==============================] - 11s 247ms/step - loss: 0.3467 - accuracy: 0.8921 - val_loss: 0.3441 - val_accuracy: 0.8671\n",
            "Epoch 49/50\n",
            "46/46 [==============================] - 12s 248ms/step - loss: 0.3235 - accuracy: 0.8993 - val_loss: 0.2430 - val_accuracy: 0.9051\n",
            "Epoch 50/50\n",
            "46/46 [==============================] - 11s 247ms/step - loss: 0.2969 - accuracy: 0.9090 - val_loss: 0.2146 - val_accuracy: 0.9151\n"
          ],
          "name": "stdout"
        }
      ]
    },
    {
      "cell_type": "code",
      "metadata": {
        "id": "7i6xTGd3MEPm",
        "colab": {
          "base_uri": "https://localhost:8080/",
          "height": 503
        },
        "outputId": "909a4d5c-d561-4e99-d06c-28cb375910a1"
      },
      "source": [
        "# evaluate the network and show a classification report\n",
        "print(\"[INFO] evaluating network...\")\n",
        "predictions = model.predict(testX, batch_size=config.BATCH_SIZE)\n",
        "print(classification_report(testY.argmax(axis=1),\n",
        "\tpredictions.argmax(axis=1), target_names=config.CLASSES))\n",
        "\n",
        "# serialize the model to disk\n",
        "print(\"[INFO] serializing network to '{}'...\".format(config.MODEL_PATH))\n",
        "model.save(config.MODEL_PATH)\n",
        "\n",
        "# construct a plot that plots and saves the training history\n",
        "N = np.arange(0, config.NUM_EPOCHS)\n",
        "plt.style.use(\"ggplot\")\n",
        "plt.figure()\n",
        "plt.plot(N, H.history[\"loss\"], label=\"train_loss\")\n",
        "plt.plot(N, H.history[\"val_loss\"], label=\"val_loss\")\n",
        "plt.plot(N, H.history[\"accuracy\"], label=\"train_acc\")\n",
        "plt.plot(N, H.history[\"val_accuracy\"], label=\"val_acc\")\n",
        "plt.title(\"Training Loss and Accuracy\")\n",
        "plt.xlabel(\"Epoch #\")\n",
        "plt.ylabel(\"Loss/Accuracy\")\n",
        "plt.legend(loc=\"lower left\")\n",
        "plt.savefig(config.TRAINING_PLOT_PATH)"
      ],
      "execution_count": 15,
      "outputs": [
        {
          "output_type": "stream",
          "text": [
            "[INFO] evaluating network...\n",
            "              precision    recall  f1-score   support\n",
            "\n",
            "    Non-Fire       0.93      0.94      0.93       647\n",
            "        Fire       0.88      0.88      0.88       354\n",
            "\n",
            "    accuracy                           0.92      1001\n",
            "   macro avg       0.91      0.91      0.91      1001\n",
            "weighted avg       0.92      0.92      0.92      1001\n",
            "\n",
            "[INFO] serializing network to 'output/fire_detection.model'...\n",
            "INFO:tensorflow:Assets written to: output/fire_detection.model/assets\n"
          ],
          "name": "stdout"
        },
        {
          "output_type": "display_data",
          "data": {
            "image/png": "[encoded data removed]",
            "text/plain": [
              "<Figure size 432x288 with 1 Axes>"
            ]
          },
          "metadata": {
            "tags": []
          }
        }
      ]
    },
    {
      "cell_type": "markdown",
      "metadata": {
        "id": "meeE35yjMfe-"
      },
      "source": [
        "### Making predictions on fire/non-fire images"
      ]
    },
    {
      "cell_type": "code",
      "metadata": {
        "id": "TlUKL6tKMceE",
        "colab": {
          "base_uri": "https://localhost:8080/"
        },
        "outputId": "296f99ce-854a-43b9-e525-0ce95aee11d5"
      },
      "source": [
        "# load the trained model from disk\n",
        "print(\"[INFO] loading model...\")\n",
        "model = load_model(config.MODEL_PATH)"
      ],
      "execution_count": 16,
      "outputs": [
        {
          "output_type": "stream",
          "text": [
            "[INFO] loading model...\n"
          ],
          "name": "stdout"
        }
      ]
    },
    {
      "cell_type": "code",
      "metadata": {
        "id": "ma8Zw5R8M12T",
        "colab": {
          "base_uri": "https://localhost:8080/"
        },
        "outputId": "07fe9259-ea8f-41aa-c913-affeeed523aa"
      },
      "source": [
        "# grab the paths to the fire and non-fire images, respectively\n",
        "print(\"[INFO] predicting...\")\n",
        "firePaths = list(paths.list_images(config.FIRE_PATH))\n",
        "nonFirePaths = list(paths.list_images(config.NON_FIRE_PATH))\n",
        "\n",
        "# combine the two image path lists, randomly shuffle them, and sample\n",
        "# them\n",
        "imagePaths = firePaths + nonFirePaths\n",
        "random.shuffle(imagePaths)\n",
        "imagePaths = imagePaths[:config.SAMPLE_SIZE]"
      ],
      "execution_count": 17,
      "outputs": [
        {
          "output_type": "stream",
          "text": [
            "[INFO] predicting...\n"
          ],
          "name": "stdout"
        }
      ]
    },
    {
      "cell_type": "code",
      "metadata": {
        "id": "S2mYj0N2M8h1"
      },
      "source": [
        "# loop over the sampled image paths\n",
        "for (i, imagePath) in enumerate(imagePaths):\n",
        "\t# load the image and clone it\n",
        "\timage = cv2.imread(imagePath)\n",
        "\toutput = image.copy()\n",
        "\n",
        "\t# resize the input image to be a fixed 128x128 pixels, ignoring\n",
        "\t# aspect ratio\n",
        "\timage = cv2.resize(image, (128, 128))\n",
        "\timage = image.astype(\"float32\") / 255.0\n",
        "\t\t\n",
        "\t# make predictions on the image\n",
        "\tpreds = model.predict(np.expand_dims(image, axis=0))[0]\n",
        "\tj = np.argmax(preds)\n",
        "\tlabel = config.CLASSES[j]\n",
        "\n",
        "\t# draw the activity on the output frame\n",
        "\ttext = label if label == \"Non-Fire\" else \"WARNING! Fire!\"\n",
        "\toutput = imutils.resize(output, width=500)\n",
        "\tcv2.putText(output, text, (35, 50), cv2.FONT_HERSHEY_SIMPLEX,\n",
        "\t\t1.25, (0, 255, 0), 5)\n",
        "\n",
        "\t# write the output image to disk\t \n",
        "\tfilename = \"{}.png\".format(i)\n",
        "\tp = os.path.sep.join([config.OUTPUT_IMAGE_PATH, filename])\n",
        "\tcv2.imwrite(p, output)"
      ],
      "execution_count": 18,
      "outputs": []
    }
  ]
}